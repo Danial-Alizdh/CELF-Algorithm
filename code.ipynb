{
 "cells": [
  {
   "cell_type": "markdown",
   "metadata": {},
   "source": [
    "## Library"
   ]
  },
  {
   "cell_type": "code",
   "execution_count": null,
   "metadata": {},
   "outputs": [],
   "source": [
    "import pandas as pd\n",
    "import random\n",
    "import copy"
   ]
  },
  {
   "cell_type": "markdown",
   "metadata": {},
   "source": [
    "## A"
   ]
  },
  {
   "cell_type": "code",
   "execution_count": null,
   "metadata": {},
   "outputs": [
    {
     "data": {
      "text/html": [
       "<div>\n",
       "<style scoped>\n",
       "    .dataframe tbody tr th:only-of-type {\n",
       "        vertical-align: middle;\n",
       "    }\n",
       "\n",
       "    .dataframe tbody tr th {\n",
       "        vertical-align: top;\n",
       "    }\n",
       "\n",
       "    .dataframe thead th {\n",
       "        text-align: right;\n",
       "    }\n",
       "</style>\n",
       "<table border=\"1\" class=\"dataframe\">\n",
       "  <thead>\n",
       "    <tr style=\"text-align: right;\">\n",
       "      <th></th>\n",
       "      <th>u</th>\n",
       "      <th>v</th>\n",
       "    </tr>\n",
       "  </thead>\n",
       "  <tbody>\n",
       "    <tr>\n",
       "      <th>0</th>\n",
       "      <td>0</td>\n",
       "      <td>1</td>\n",
       "    </tr>\n",
       "    <tr>\n",
       "      <th>1</th>\n",
       "      <td>0</td>\n",
       "      <td>2</td>\n",
       "    </tr>\n",
       "    <tr>\n",
       "      <th>2</th>\n",
       "      <td>0</td>\n",
       "      <td>3</td>\n",
       "    </tr>\n",
       "    <tr>\n",
       "      <th>3</th>\n",
       "      <td>0</td>\n",
       "      <td>4</td>\n",
       "    </tr>\n",
       "    <tr>\n",
       "      <th>4</th>\n",
       "      <td>0</td>\n",
       "      <td>5</td>\n",
       "    </tr>\n",
       "    <tr>\n",
       "      <th>...</th>\n",
       "      <td>...</td>\n",
       "      <td>...</td>\n",
       "    </tr>\n",
       "    <tr>\n",
       "      <th>88229</th>\n",
       "      <td>4026</td>\n",
       "      <td>4030</td>\n",
       "    </tr>\n",
       "    <tr>\n",
       "      <th>88230</th>\n",
       "      <td>4027</td>\n",
       "      <td>4031</td>\n",
       "    </tr>\n",
       "    <tr>\n",
       "      <th>88231</th>\n",
       "      <td>4027</td>\n",
       "      <td>4032</td>\n",
       "    </tr>\n",
       "    <tr>\n",
       "      <th>88232</th>\n",
       "      <td>4027</td>\n",
       "      <td>4038</td>\n",
       "    </tr>\n",
       "    <tr>\n",
       "      <th>88233</th>\n",
       "      <td>4031</td>\n",
       "      <td>4038</td>\n",
       "    </tr>\n",
       "  </tbody>\n",
       "</table>\n",
       "<p>88234 rows × 2 columns</p>\n",
       "</div>"
      ],
      "text/plain": [
       "          u     v\n",
       "0         0     1\n",
       "1         0     2\n",
       "2         0     3\n",
       "3         0     4\n",
       "4         0     5\n",
       "...     ...   ...\n",
       "88229  4026  4030\n",
       "88230  4027  4031\n",
       "88231  4027  4032\n",
       "88232  4027  4038\n",
       "88233  4031  4038\n",
       "\n",
       "[88234 rows x 2 columns]"
      ]
     },
     "metadata": {},
     "output_type": "display_data"
    }
   ],
   "source": [
    "graph_facebook = pd.read_csv('./Q4/facebook_combined.txt', sep=' ', header=None, names=['u', 'v'])\n",
    "\n",
    "graph_facebook"
   ]
  },
  {
   "cell_type": "code",
   "execution_count": null,
   "metadata": {},
   "outputs": [],
   "source": [
    "def calculate_adjacency_matrix(graph):\n",
    "    G = list(set(list(graph.u.unique()) + list(graph.v.unique())))\n",
    "    num_nodes_G = len(G)\n",
    "\n",
    "    am_G = [[0] * num_nodes_G for _ in range(num_nodes_G)]\n",
    "    \n",
    "    num_edges = 0\n",
    "    for i in range(num_nodes_G):\n",
    "        neighbors = list(graph[graph['u'] == G[i]].v) + list(graph[graph['v'] == G[i]].u)\n",
    "        for j in range(num_nodes_G):\n",
    "            if G[j] in neighbors:\n",
    "                am_G[i][j] = 1\n",
    "                am_G[j][i] = 1\n",
    "                num_edges += 1\n",
    "\n",
    "    return G, num_nodes_G, num_edges, am_G"
   ]
  },
  {
   "cell_type": "code",
   "execution_count": null,
   "metadata": {},
   "outputs": [
    {
     "name": "stdout",
     "output_type": "stream",
     "text": [
      "Number of nodes : 4039\n",
      "Number of edges : 176468\n"
     ]
    }
   ],
   "source": [
    "# Undirected\n",
    "facebook, num_nodes_facebook, num_edges_facebook, am_facebook = calculate_adjacency_matrix(graph_facebook)\n",
    "print(f'Number of nodes : {num_nodes_facebook}')\n",
    "print(f'Number of edges : {num_edges_facebook}')"
   ]
  },
  {
   "cell_type": "code",
   "execution_count": null,
   "metadata": {},
   "outputs": [],
   "source": [
    "def adjacency_matrix_to_list(adj_matrix):\n",
    "    num_vertices = len(adj_matrix)\n",
    "\n",
    "    adj_list = {}\n",
    "\n",
    "    for i in range(num_vertices):\n",
    "        adj_list[i] = []\n",
    "        for j in range(num_vertices):\n",
    "            if adj_matrix[i][j] == 1:\n",
    "                adj_list[i].append(j)\n",
    "\n",
    "    return adj_list"
   ]
  },
  {
   "cell_type": "markdown",
   "metadata": {},
   "source": [
    "## B"
   ]
  },
  {
   "cell_type": "code",
   "execution_count": null,
   "metadata": {},
   "outputs": [],
   "source": [
    "def realization(adjacency_matrix, p):\n",
    "    random.seed(42)\n",
    "    realization_list = []\n",
    "\n",
    "    for _ in range(10):\n",
    "        graph = copy.deepcopy(adjacency_matrix)\n",
    "        \n",
    "        for i in range(len(graph)):\n",
    "            for j in range(i + 1, len(graph[i])):\n",
    "                if graph[i][j] == 1 and random.random() > p:\n",
    "                    graph[i][j] = 0\n",
    "                    graph[j][i] = 0\n",
    "\n",
    "        realization_list.append(graph)\n",
    "    \n",
    "    return realization_list"
   ]
  },
  {
   "cell_type": "code",
   "execution_count": null,
   "metadata": {},
   "outputs": [],
   "source": [
    "realization_list = realization(am_facebook, 0.1)"
   ]
  },
  {
   "cell_type": "markdown",
   "metadata": {},
   "source": [
    "## C"
   ]
  },
  {
   "cell_type": "code",
   "execution_count": null,
   "metadata": {},
   "outputs": [],
   "source": [
    "degrees = []\n",
    "for graph in realization_list:\n",
    "    degrees.append({i: sum(graph[i]) for i in range(len(graph))})"
   ]
  },
  {
   "cell_type": "code",
   "execution_count": null,
   "metadata": {},
   "outputs": [],
   "source": [
    "def independent_cascade_model(graph, seed_set):\n",
    "    active_nodes = set(seed_set.copy())\n",
    "    new_nodes = set(seed_set)\n",
    "\n",
    "    while new_nodes:\n",
    "        current_node = new_nodes.pop()\n",
    "        neighbors = set(graph.get(current_node, [])) - active_nodes\n",
    "        for neighbor in neighbors:\n",
    "            # edge = (current_node, neighbor)\n",
    "            if neighbor in graph[current_node]:\n",
    "                new_nodes.add(neighbor)\n",
    "                active_nodes.add(neighbor)\n",
    "\n",
    "    return len(active_nodes)"
   ]
  },
  {
   "cell_type": "code",
   "execution_count": null,
   "metadata": {},
   "outputs": [],
   "source": [
    "al_realization = []\n",
    "for graph in realization_list:\n",
    "    al_realization.append(adjacency_matrix_to_list(graph))"
   ]
  },
  {
   "cell_type": "code",
   "execution_count": null,
   "metadata": {},
   "outputs": [
    {
     "name": "stdout",
     "output_type": "stream",
     "text": [
      "Iteration 0 -> f = 2959.4, Nodes : [107]\n",
      "Iteration 1 -> f = 2959.4, Nodes : [107, 1912]\n",
      "Iteration 2 -> f = 2959.4, Nodes : [107, 1912, 1684]\n",
      "Iteration 3 -> f = 2959.4, Nodes : [107, 1912, 1684, 3437]\n",
      "Iteration 4 -> f = 2978.5, Nodes : [107, 1912, 1684, 3437, 0]\n",
      "Iteration 5 -> f = 2978.5, Nodes : [107, 1912, 1684, 3437, 0, 2347]\n",
      "Iteration 6 -> f = 2978.5, Nodes : [107, 1912, 1684, 3437, 0, 2347, 2543]\n",
      "Iteration 7 -> f = 2978.5, Nodes : [107, 1912, 1684, 3437, 0, 2347, 2543, 1888]\n"
     ]
    }
   ],
   "source": [
    "# First greedy\n",
    "S = []\n",
    "for iteration in range(8):\n",
    "    m = 0\n",
    "    k = 0\n",
    "    for node in range(len(am_facebook)):\n",
    "        if node not in S:\n",
    "            d = 0\n",
    "            for i in range(len(al_realization)):\n",
    "                d += degrees[i][node]\n",
    "            d = d / len(al_realization)\n",
    "            if d > m:\n",
    "                m = d\n",
    "                k = node\n",
    "    S += [k]\n",
    "    f = 0\n",
    "    for graph in al_realization:\n",
    "        f += independent_cascade_model(graph, S)\n",
    "    f = f / len(al_realization)\n",
    "    print(f'Iteration {iteration} -> f = {f}, Nodes : {S}')\n",
    "\n",
    "# 0.6s"
   ]
  },
  {
   "cell_type": "code",
   "execution_count": null,
   "metadata": {},
   "outputs": [
    {
     "name": "stdout",
     "output_type": "stream",
     "text": [
      "Iteration 0 -> f = 2959.4, Nodes : [3286]\n",
      "Iteration 1 -> f = 2960.2, Nodes : [3286, 3676]\n",
      "Iteration 2 -> f = 2960.5, Nodes : [3286, 3676, 2205]\n",
      "Iteration 3 -> f = 2960.5, Nodes : [3286, 3676, 2205, 3362]\n",
      "Iteration 4 -> f = 2961.7, Nodes : [3286, 3676, 2205, 3362, 3932]\n",
      "Iteration 5 -> f = 2980.8, Nodes : [3286, 3676, 2205, 3362, 3932, 299]\n",
      "Iteration 6 -> f = 2980.8, Nodes : [3286, 3676, 2205, 3362, 3932, 299, 3800]\n",
      "Iteration 7 -> f = 2980.9, Nodes : [3286, 3676, 2205, 3362, 3932, 299, 3800, 1062]\n"
     ]
    }
   ],
   "source": [
    "# Second greedy\n",
    "S = []\n",
    "for iteration in range(8):\n",
    "    i = random.choice(range(len(am_facebook)))\n",
    "    while i in S:\n",
    "        i = random.choice(range(len(am_facebook)))\n",
    "    \n",
    "    S += [i]\n",
    "    f = 0\n",
    "    for graph in al_realization:\n",
    "        f += independent_cascade_model(graph, S)\n",
    "    f = f / len(al_realization)\n",
    "    print(f'Iteration {iteration} -> f = {f}, Nodes : {S}')\n",
    "\n",
    "# 0.2s"
   ]
  },
  {
   "cell_type": "markdown",
   "metadata": {},
   "source": [
    "## D"
   ]
  },
  {
   "cell_type": "code",
   "execution_count": null,
   "metadata": {},
   "outputs": [
    {
     "name": "stdout",
     "output_type": "stream",
     "text": [
      "Iteration 0 -> f = 2959.4, Nodes : [3971]\n",
      "Iteration 1 -> f = 3032.1, Nodes : [3971, 809]\n",
      "Iteration 2 -> f = 3055.7, Nodes : [3971, 809, 343]\n",
      "Iteration 3 -> f = 3069.7, Nodes : [3971, 809, 343, 3980]\n",
      "Iteration 4 -> f = 3072.7, Nodes : [3971, 809, 343, 3980, 2699]\n",
      "Iteration 5 -> f = 3075.6, Nodes : [3971, 809, 343, 3980, 2699, 3012]\n",
      "Iteration 6 -> f = 3078.4, Nodes : [3971, 809, 343, 3980, 2699, 3012, 3894]\n",
      "Iteration 7 -> f = 3081.2, Nodes : [3971, 809, 343, 3980, 2699, 3012, 3894, 822]\n"
     ]
    }
   ],
   "source": [
    "# Greedy        S'\n",
    "S = []\n",
    "for iteration in range(8):\n",
    "    values = {}\n",
    "    for node in range(len(am_facebook)):\n",
    "        if node not in S:\n",
    "            f = 0\n",
    "            for graph in al_realization:\n",
    "                f += independent_cascade_model(graph, S + [node])\n",
    "            values[node] = f / len(al_realization)\n",
    "\n",
    "    node = sorted(values.items(), key=lambda item: item[1])[::-1][:1][0][0]\n",
    "    S += [node]\n",
    "    print(f'Iteration {iteration} -> f = {values[node]}, Nodes : {S}')\n",
    "\n",
    "# 14m 14.5s"
   ]
  },
  {
   "cell_type": "code",
   "execution_count": null,
   "metadata": {},
   "outputs": [
    {
     "name": "stdout",
     "output_type": "stream",
     "text": [
      "Iteration 0 -> \n",
      "The difference from the previous iteration = 2959.4 \n",
      "f = 2959.4, Nodes : [3971]\n",
      "Iteration 1 -> \n",
      "The difference from the previous iteration = 72.69999999999982 \n",
      "f = 3032.1, Nodes : [3971, 809]\n",
      "Iteration 2 -> \n",
      "The difference from the previous iteration = 23.59999999999991 \n",
      "f = 3055.7, Nodes : [3971, 809, 343]\n",
      "Iteration 3 -> \n",
      "The difference from the previous iteration = 14.0 \n",
      "f = 3069.7, Nodes : [3971, 809, 343, 3980]\n",
      "Iteration 4 -> \n",
      "The difference from the previous iteration = 3.0 \n",
      "f = 3072.7, Nodes : [3971, 809, 343, 3980, 2699]\n",
      "Iteration 5 -> \n",
      "The difference from the previous iteration = 2.900000000000091 \n",
      "f = 3075.6, Nodes : [3971, 809, 343, 3980, 2699, 3012]\n",
      "Iteration 6 -> \n",
      "The difference from the previous iteration = 2.800000000000182 \n",
      "f = 3078.4, Nodes : [3971, 809, 343, 3980, 2699, 3012, 3894]\n",
      "Iteration 7 -> \n",
      "The difference from the previous iteration = 2.799999999999727 \n",
      "f = 3081.2, Nodes : [3971, 809, 343, 3980, 2699, 3012, 3894, 822]\n"
     ]
    }
   ],
   "source": [
    "# Greedy        S\"\n",
    "A = []\n",
    "F = 0\n",
    "for iteration in range(8):\n",
    "    values = {}\n",
    "    for node in range(len(am_facebook)):\n",
    "        f_AUs = 0\n",
    "        for graph in al_realization:\n",
    "            f_AUs += independent_cascade_model(graph, A + [node])\n",
    "        values[node] = (f_AUs / len(al_realization))  - F\n",
    "\n",
    "    node = sorted(values.items(), key=lambda item: item[1])[::-1][:1][0][0]\n",
    "    A += [node]\n",
    "    F += values[node]\n",
    "    print(f'Iteration {iteration} -> \\nThe difference from the previous iteration = {values[node]} \\nf = {F}, Nodes : {A}')\n",
    "\n",
    "# 19m 40.4s"
   ]
  },
  {
   "cell_type": "code",
   "execution_count": null,
   "metadata": {},
   "outputs": [],
   "source": [
    "import heapq\n",
    "\n",
    "class MinHeap:\n",
    "    def __init__(self):\n",
    "        self.heap = []\n",
    "\n",
    "    def push(self, key_value_pair):\n",
    "        heapq.heappush(self.heap, key_value_pair)\n",
    "\n",
    "    def pop(self):\n",
    "        if self.heap:\n",
    "            return heapq.heappop(self.heap)\n",
    "        else:\n",
    "            raise IndexError(\"pop from an empty heap\")\n",
    "\n",
    "    def peek(self):\n",
    "        if self.heap:\n",
    "            return self.heap[0]\n",
    "        else:\n",
    "            return None"
   ]
  },
  {
   "cell_type": "code",
   "execution_count": null,
   "metadata": {},
   "outputs": [
    {
     "name": "stdout",
     "output_type": "stream",
     "text": [
      "************** Greedy S' **************\n",
      "Iteration 0 -> \n",
      "The difference from the previous iteration = 2959.4 \n",
      "f = 2959.4, Nodes : [107]\n",
      "Iteration 1 -> \n",
      "The difference from the previous iteration = 72.69999999999982 \n",
      "f = 3032.1, Nodes : [107, 773]\n",
      "Iteration 2 -> \n",
      "The difference from the previous iteration = 23.59999999999991 \n",
      "f = 3055.7, Nodes : [107, 773, 115]\n",
      "Iteration 3 -> \n",
      "The difference from the previous iteration = 14.0 \n",
      "f = 3069.7, Nodes : [107, 773, 115, 3980]\n",
      "Iteration 4 -> \n",
      "The difference from the previous iteration = 3.0 \n",
      "f = 3072.7, Nodes : [107, 773, 115, 3980, 2699]\n",
      "Iteration 5 -> \n",
      "The difference from the previous iteration = 2.900000000000091 \n",
      "f = 3075.6, Nodes : [107, 773, 115, 3980, 2699, 3012]\n",
      "Iteration 6 -> \n",
      "The difference from the previous iteration = 2.800000000000182 \n",
      "f = 3078.4, Nodes : [107, 773, 115, 3980, 2699, 3012, 822]\n",
      "Iteration 7 -> \n",
      "The difference from the previous iteration = 2.799999999999727 \n",
      "f = 3081.2, Nodes : [107, 773, 115, 3980, 2699, 3012, 822, 564]\n",
      "\n",
      "************** Greedy S\" **************\n",
      "Iteration 0 -> \n",
      "The difference from the previous iteration = 2959.4 \n",
      "f = 2959.4, Nodes : [107]\n",
      "Iteration 1 -> \n",
      "The difference from the previous iteration = 72.69999999999982 \n",
      "f = 3032.1, Nodes : [107, 773]\n",
      "Iteration 2 -> \n",
      "The difference from the previous iteration = 23.59999999999991 \n",
      "f = 3055.7, Nodes : [107, 773, 115]\n",
      "Iteration 3 -> \n",
      "The difference from the previous iteration = 14.0 \n",
      "f = 3069.7, Nodes : [107, 773, 115, 3980]\n",
      "Iteration 4 -> \n",
      "The difference from the previous iteration = 3.0 \n",
      "f = 3072.7, Nodes : [107, 773, 115, 3980, 2699]\n",
      "Iteration 5 -> \n",
      "The difference from the previous iteration = 2.900000000000091 \n",
      "f = 3075.6, Nodes : [107, 773, 115, 3980, 2699, 3012]\n",
      "Iteration 6 -> \n",
      "The difference from the previous iteration = 2.800000000000182 \n",
      "f = 3078.4, Nodes : [107, 773, 115, 3980, 2699, 3012, 822]\n",
      "Iteration 7 -> \n",
      "The difference from the previous iteration = 2.799999999999727 \n",
      "f = 3081.2, Nodes : [107, 773, 115, 3980, 2699, 3012, 822, 564]\n",
      "\n",
      "************** CELF **************\n",
      "f(S) = 3081.2, Nodes : [107, 773, 115, 3980, 2699, 3012, 822, 564]\n"
     ]
    }
   ],
   "source": [
    "# CELF\n",
    "\n",
    "# S'\n",
    "print('************** Greedy S\\' **************')\n",
    "S1 = []\n",
    "F1 = 0\n",
    "min_heap = MinHeap()\n",
    "for iteration in range(8):\n",
    "    if iteration == 0:\n",
    "        for node in range(len(am_facebook)):\n",
    "            f_AUs = 0 \n",
    "            for graph in al_realization:\n",
    "                f_AUs += independent_cascade_model(graph, [node])\n",
    "            min_heap.push(((-1) * f_AUs / len(al_realization), node))\n",
    "        m, node = min_heap.pop()\n",
    "    else:\n",
    "        while True:\n",
    "            m, node = min_heap.pop()\n",
    "            f_AUs = 0 \n",
    "            for graph in al_realization:\n",
    "                f_AUs += independent_cascade_model(graph, S1 + [node])\n",
    "            f_AUs = (f_AUs / len(al_realization)) - F1\n",
    "            if f_AUs >= ((-1) * min_heap.peek()[0]):\n",
    "                m = (-1) * f_AUs\n",
    "                break\n",
    "            else:\n",
    "                min_heap.push(((-1) * f_AUs, node))\n",
    "\n",
    "    S1 += [node]\n",
    "    F1 += (-1)*m\n",
    "    print(f'Iteration {iteration} -> \\nThe difference from the previous iteration = {(-1)*m} \\nf = {F1}, Nodes : {S1}')\n",
    "\n",
    "# S\"\n",
    "print('\\n************** Greedy S\\\" **************')\n",
    "S2 = []\n",
    "F2 = 0\n",
    "min_heap = MinHeap()\n",
    "for iteration in range(8):\n",
    "    if min_heap.peek() == None:\n",
    "        for node in range(len(am_facebook)):\n",
    "            f_AUs = 0 \n",
    "            for graph in al_realization:\n",
    "                f_AUs += independent_cascade_model(graph, [node])\n",
    "            min_heap.push(((-1) * f_AUs / len(al_realization), node))\n",
    "        m, node = min_heap.pop()\n",
    "    else:\n",
    "        while True:\n",
    "            m, node = min_heap.pop()\n",
    "            f_AUs = 0\n",
    "            for graph in al_realization:\n",
    "                f_AUs += independent_cascade_model(graph, S2 + [node])\n",
    "            f_AUs = (f_AUs / len(al_realization)) - F2\n",
    "            if f_AUs >= ((-1) * min_heap.peek()[0]):\n",
    "                m = (-1) * f_AUs\n",
    "                break\n",
    "            else:\n",
    "                min_heap.push(((-1) * f_AUs, node))\n",
    "\n",
    "    S2 += [node]\n",
    "    F2 += (-1)*m\n",
    "    print(f'Iteration {iteration} -> \\nThe difference from the previous iteration = {(-1)*m} \\nf = {F2}, Nodes : {S2}')\n",
    "\n",
    "print('\\n************** CELF **************')\n",
    "F = max(F1, F2)\n",
    "S = S1 if F == F1 else S2\n",
    "print(f'f(S) = {F}, Nodes : {S}')\n",
    "\n",
    "# 8m 56.0s"
   ]
  }
 ],
 "metadata": {
  "kernelspec": {
   "display_name": "Python 3",
   "language": "python",
   "name": "python3"
  },
  "language_info": {
   "name": "python",
   "version": "3.10.12"
  }
 },
 "nbformat": 4,
 "nbformat_minor": 2
}
